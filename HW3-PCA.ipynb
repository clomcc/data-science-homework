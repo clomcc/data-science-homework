{
 "cells": [
  {
   "cell_type": "markdown",
   "metadata": {},
   "source": [
    "This is a heavily rewritten version of the code from homework 3 for CME 594 with Sybil Derrible from spring 2017. \n",
    "\n",
    "The first question in the homework asks for an explanation of Principal Component Analysis:\n",
    "\n",
    "Principle Component Analysis is a method for analyzing data which may have high correlation between the variables or a large number of variables relative to the number of observations. It takes the matrix of observations and makes a change of basis so that the data is written as linear combinations of orthogonal vectors. This is done by finding the eigenvectors, which are the vectors the remain unchanged (up to scaling) by the transformation. These vectors can then tell us about the relative importance of the different variables. The first vector is the principle component, and it tells us what the primary direction of the data is and thus how the variables tend to move together. From here we can see how large the effect of a particular variable is. Then further components help to narrow down the error given by the first component.  Some of the components may show up as having a small impact. This is an indication that there was redundancy in the data. It also allows us to compress our data into a smaller set. This is useful when working with a very large set of data, because we may be able to pare it down to a smaller amount which is easier to store or transmit.\n",
    "\n",
    "Next, we're going to import the libraries we need along with the toy data set used for this assignment. "
   ]
  },
  {
   "cell_type": "code",
   "execution_count": 30,
   "metadata": {},
   "outputs": [
    {
     "data": {
      "text/plain": [
       "['Name',\n",
       " 'AvgHW',\n",
       " 'AvgQuiz',\n",
       " 'AvgLab',\n",
       " 'MT1',\n",
       " 'MT2',\n",
       " 'Final',\n",
       " 'Participation',\n",
       " 'Grade']"
      ]
     },
     "execution_count": 30,
     "metadata": {},
     "output_type": "execute_result"
    }
   ],
   "source": [
    "import numpy as np\n",
    "import pandas as pd\n",
    "from sklearn.decomposition import PCA\n",
    "from sklearn.preprocessing import StandardScaler\n",
    "import matplotlib.pyplot as plt\n",
    "\n",
    "file_name = 'HW3_data'\n",
    "input_data = pd.read_csv(file_name + '.csv', header=0)\n",
    "list(input_data)"
   ]
  },
  {
   "cell_type": "code",
   "execution_count": 31,
   "metadata": {},
   "outputs": [
    {
     "data": {
      "text/html": [
       "<div>\n",
       "<style>\n",
       "    .dataframe thead tr:only-child th {\n",
       "        text-align: right;\n",
       "    }\n",
       "\n",
       "    .dataframe thead th {\n",
       "        text-align: left;\n",
       "    }\n",
       "\n",
       "    .dataframe tbody tr th {\n",
       "        vertical-align: top;\n",
       "    }\n",
       "</style>\n",
       "<table border=\"1\" class=\"dataframe\">\n",
       "  <thead>\n",
       "    <tr style=\"text-align: right;\">\n",
       "      <th></th>\n",
       "      <th>AvgHW</th>\n",
       "      <th>AvgQuiz</th>\n",
       "      <th>AvgLab</th>\n",
       "      <th>MT1</th>\n",
       "      <th>MT2</th>\n",
       "      <th>Final</th>\n",
       "      <th>Participation</th>\n",
       "      <th>Grade</th>\n",
       "    </tr>\n",
       "  </thead>\n",
       "  <tbody>\n",
       "    <tr>\n",
       "      <th>AvgHW</th>\n",
       "      <td>1.000000</td>\n",
       "      <td>0.569000</td>\n",
       "      <td>0.726545</td>\n",
       "      <td>0.228290</td>\n",
       "      <td>0.521219</td>\n",
       "      <td>0.353389</td>\n",
       "      <td>0.509608</td>\n",
       "      <td>-0.618355</td>\n",
       "    </tr>\n",
       "    <tr>\n",
       "      <th>AvgQuiz</th>\n",
       "      <td>0.569000</td>\n",
       "      <td>1.000000</td>\n",
       "      <td>0.461975</td>\n",
       "      <td>0.598979</td>\n",
       "      <td>0.540130</td>\n",
       "      <td>0.545562</td>\n",
       "      <td>0.137227</td>\n",
       "      <td>-0.698926</td>\n",
       "    </tr>\n",
       "    <tr>\n",
       "      <th>AvgLab</th>\n",
       "      <td>0.726545</td>\n",
       "      <td>0.461975</td>\n",
       "      <td>1.000000</td>\n",
       "      <td>0.187000</td>\n",
       "      <td>0.447095</td>\n",
       "      <td>0.287459</td>\n",
       "      <td>0.531527</td>\n",
       "      <td>-0.478702</td>\n",
       "    </tr>\n",
       "    <tr>\n",
       "      <th>MT1</th>\n",
       "      <td>0.228290</td>\n",
       "      <td>0.598979</td>\n",
       "      <td>0.187000</td>\n",
       "      <td>1.000000</td>\n",
       "      <td>0.568259</td>\n",
       "      <td>0.662707</td>\n",
       "      <td>-0.183108</td>\n",
       "      <td>-0.647517</td>\n",
       "    </tr>\n",
       "    <tr>\n",
       "      <th>MT2</th>\n",
       "      <td>0.521219</td>\n",
       "      <td>0.540130</td>\n",
       "      <td>0.447095</td>\n",
       "      <td>0.568259</td>\n",
       "      <td>1.000000</td>\n",
       "      <td>0.523941</td>\n",
       "      <td>0.126559</td>\n",
       "      <td>-0.668687</td>\n",
       "    </tr>\n",
       "    <tr>\n",
       "      <th>Final</th>\n",
       "      <td>0.353389</td>\n",
       "      <td>0.545562</td>\n",
       "      <td>0.287459</td>\n",
       "      <td>0.662707</td>\n",
       "      <td>0.523941</td>\n",
       "      <td>1.000000</td>\n",
       "      <td>-0.003285</td>\n",
       "      <td>-0.817422</td>\n",
       "    </tr>\n",
       "    <tr>\n",
       "      <th>Participation</th>\n",
       "      <td>0.509608</td>\n",
       "      <td>0.137227</td>\n",
       "      <td>0.531527</td>\n",
       "      <td>-0.183108</td>\n",
       "      <td>0.126559</td>\n",
       "      <td>-0.003285</td>\n",
       "      <td>1.000000</td>\n",
       "      <td>-0.282882</td>\n",
       "    </tr>\n",
       "    <tr>\n",
       "      <th>Grade</th>\n",
       "      <td>-0.618355</td>\n",
       "      <td>-0.698926</td>\n",
       "      <td>-0.478702</td>\n",
       "      <td>-0.647517</td>\n",
       "      <td>-0.668687</td>\n",
       "      <td>-0.817422</td>\n",
       "      <td>-0.282882</td>\n",
       "      <td>1.000000</td>\n",
       "    </tr>\n",
       "  </tbody>\n",
       "</table>\n",
       "</div>"
      ],
      "text/plain": [
       "                  AvgHW   AvgQuiz    AvgLab       MT1       MT2     Final  \\\n",
       "AvgHW          1.000000  0.569000  0.726545  0.228290  0.521219  0.353389   \n",
       "AvgQuiz        0.569000  1.000000  0.461975  0.598979  0.540130  0.545562   \n",
       "AvgLab         0.726545  0.461975  1.000000  0.187000  0.447095  0.287459   \n",
       "MT1            0.228290  0.598979  0.187000  1.000000  0.568259  0.662707   \n",
       "MT2            0.521219  0.540130  0.447095  0.568259  1.000000  0.523941   \n",
       "Final          0.353389  0.545562  0.287459  0.662707  0.523941  1.000000   \n",
       "Participation  0.509608  0.137227  0.531527 -0.183108  0.126559 -0.003285   \n",
       "Grade         -0.618355 -0.698926 -0.478702 -0.647517 -0.668687 -0.817422   \n",
       "\n",
       "               Participation     Grade  \n",
       "AvgHW               0.509608 -0.618355  \n",
       "AvgQuiz             0.137227 -0.698926  \n",
       "AvgLab              0.531527 -0.478702  \n",
       "MT1                -0.183108 -0.647517  \n",
       "MT2                 0.126559 -0.668687  \n",
       "Final              -0.003285 -0.817422  \n",
       "Participation       1.000000 -0.282882  \n",
       "Grade              -0.282882  1.000000  "
      ]
     },
     "execution_count": 31,
     "metadata": {},
     "output_type": "execute_result"
    }
   ],
   "source": [
    "input_data.Grade=[ord(x) for x in input_data.Grade]\n",
    "input_data=input_data.drop('Name',axis=1)\n",
    "\n",
    "input_data.corr()"
   ]
  },
  {
   "cell_type": "markdown",
   "metadata": {},
   "source": [
    "We can see above that there are some strong correlations between variables, but nothing so extreme that I would expect PCA or another form of dimension reduction to be a necessary part of analyzing the data. Now, we can fit the PCA model."
   ]
  },
  {
   "cell_type": "code",
   "execution_count": 36,
   "metadata": {},
   "outputs": [
    {
     "name": "stdout",
     "output_type": "stream",
     "text": [
      "Mean\n",
      "[ 17.04347826  15.89130435  18.86956522  76.26086957  91.10869565\n",
      "  78.65217391  92.          66.04347826]\n",
      "\n",
      "Principal Components Results\n",
      "[[-0.07249201 -0.08112608 -0.0308978  -0.66249005 -0.31963573 -0.66263863\n",
      "   0.06923636  0.04759308]\n",
      " [-0.1767182  -0.03914837 -0.09249915  0.15112865 -0.17276093 -0.13529508\n",
      "  -0.94157686  0.03352675]\n",
      " [ 0.04733838  0.04399072  0.02859639  0.56921644  0.34396304 -0.73351097\n",
      "   0.12052368  0.01113179]\n",
      " [-0.13450406 -0.01085887 -0.04631584  0.45739529 -0.83859349 -0.00672114\n",
      "   0.25889146  0.01123116]]\n",
      "\n",
      "Percentage variance explained by components\n",
      "[ 0.55851354  0.26259602  0.09857571  0.06134653]\n",
      "\n"
     ]
    }
   ],
   "source": [
    "X=StandardScaler().fit_transform(input_data)\n",
    "\n",
    "n=4\n",
    "pca=PCA(n_components=n)\n",
    "pca_fit=pca.fit(input_data)\n",
    "\n",
    "\n",
    "print(\"Mean\")\n",
    "print(pca_fit.mean_)\n",
    "print(\"\")\n",
    "print(\"Principal Components Results\")\n",
    "print(pca_fit.components_)\n",
    "print(\"\")\n",
    "print(\"Percentage variance explained by components\")\n",
    "print(pca_fit.explained_variance_ratio_)\n",
    "print(\"\")"
   ]
  },
  {
   "cell_type": "markdown",
   "metadata": {},
   "source": [
    "From here, we see that 4 components are certainly enough to explain a significant amount of the variation. in particular, more than half the data can be explain by the first component alone. Withing this component, we can see that midterm 1 and the final have large values and similar values. So, (unsurprisingly to most teachers) those two components explain a lot of the variation and they tend to move together. Midterm two is also relatively large compared to the other values and also moves in the same direction. \n",
    "\n",
    "Participation is by far the strongest direction in the second component, indication that it holds a lot of variation once we have removed the variation in the first component direction. If we want to avoid repeating significant variables, we would likely consider only the first two. This is not surprising, as they explain 80 percent of the variation in the data together.  "
   ]
  }
 ],
 "metadata": {
  "kernelspec": {
   "display_name": "Python 3",
   "language": "python",
   "name": "python3"
  },
  "language_info": {
   "codemirror_mode": {
    "name": "ipython",
    "version": 3
   },
   "file_extension": ".py",
   "mimetype": "text/x-python",
   "name": "python",
   "nbconvert_exporter": "python",
   "pygments_lexer": "ipython3",
   "version": "3.6.3"
  }
 },
 "nbformat": 4,
 "nbformat_minor": 2
}
