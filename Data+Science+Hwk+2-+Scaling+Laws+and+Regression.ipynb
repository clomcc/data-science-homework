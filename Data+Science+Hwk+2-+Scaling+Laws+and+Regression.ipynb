{
 "cells": [
  {
   "cell_type": "code",
   "execution_count": null,
   "metadata": {
    "collapsed": true
   },
   "outputs": [],
   "source": []
  },
  {
   "cell_type": "markdown",
   "metadata": {},
   "source": [
    "This code is to some extent a rewriting of some of the methods in the code provided by Sybil Derrible for CME594 Introduction to Data Science (http://derrible.people.uic.edu/course_documents/syllabi/2017_Winter_CME594_Introduction_to_Data_Science.pdf ). for homework 2 on scaling laws and regression. To begin the practice with these techniques, we will import the libraries we want to use. "
   ]
  },
  {
   "cell_type": "code",
   "execution_count": 35,
   "metadata": {
    "collapsed": true
   },
   "outputs": [],
   "source": [
    "import numpy as np\n",
    "import pandas as pd\n",
    "import sklearn\n",
    "from sklearn.model_selection import train_test_split\n",
    "from sklearn import linear_model\n",
    "from sklearn.preprocessing import PolynomialFeatures\n",
    "import matplotlib.pyplot as plt\n",
    "import math"
   ]
  },
  {
   "cell_type": "markdown",
   "metadata": {},
   "source": [
    "Next, we will import the first data set that we want to use. This is a toy data set with variables for income, race, education, housing, and commute. Once the data is imported, we build a data frame with it. "
   ]
  },
  {
   "cell_type": "code",
   "execution_count": 49,
   "metadata": {},
   "outputs": [
    {
     "data": {
      "text/plain": [
       "['INC', 'RACE_bin', 'EDUC', 'TRANTIME', 'ROOMS']"
      ]
     },
     "execution_count": 49,
     "metadata": {},
     "output_type": "execute_result"
    }
   ],
   "source": [
    "file_name = 'usa_00006'\n",
    "input_data = pd.read_csv(file_name + '.csv', header=0)\n",
    "input_data.shape\n",
    "list(input_data)"
   ]
  },
  {
   "cell_type": "markdown",
   "metadata": {
    "collapsed": true
   },
   "source": [
    "Here are the specifics of the data:\n",
    "educ- A variable which represents education level. The levels aren't years, but I'm not currently sure how they are grouped. \n",
    "race- This is a binary varible (1 for caucasion, 0 else)\n",
    "rooms- This variable represents housing style by number of rooms\n",
    "tran- This is the average number of minutes commuting in the previous week. It appears to have some serious issues. \n",
    "inc- total reported household income. \n",
    "\n",
    "Now, let's split the data so we can (attempt to) predict income from the other variables. One split will be separating the target data from the predictors. The next will be separating the data into train and test splits. \n"
   ]
  },
  {
   "cell_type": "code",
   "execution_count": 37,
   "metadata": {},
   "outputs": [
    {
     "data": {
      "text/plain": [
       "(336569, 4)"
      ]
     },
     "execution_count": 37,
     "metadata": {},
     "output_type": "execute_result"
    }
   ],
   "source": [
    "Y=input_data['INC']\n",
    "X=input_data.drop('INC', axis=1)\n",
    "\n",
    "X_train,X_test,Y_train,Y_test=train_test_split(X,Y,test_size=.2, random_state=7)\n",
    "X_train.shape"
   ]
  },
  {
   "cell_type": "markdown",
   "metadata": {},
   "source": [
    "Now, we can actually fit our linear regression. "
   ]
  },
  {
   "cell_type": "code",
   "execution_count": 45,
   "metadata": {},
   "outputs": [
    {
     "data": {
      "text/plain": [
       "array([  3.64978087,   9.84813175,   0.09731314,  10.45237039])"
      ]
     },
     "execution_count": 45,
     "metadata": {},
     "output_type": "execute_result"
    }
   ],
   "source": [
    "lm=linear_model.LinearRegression()\n",
    "lm.fit(X_train,Y_train)\n",
    "lm.coef_"
   ]
  },
  {
   "cell_type": "code",
   "execution_count": 39,
   "metadata": {},
   "outputs": [
    {
     "data": {
      "image/png": "[encoded data removed]",
      "text/plain": [
       "<matplotlib.figure.Figure at 0x130c508ee80>"
      ]
     },
     "metadata": {},
     "output_type": "display_data"
    }
   ],
   "source": [
    "plt.scatter(lm.predict(X_test), lm.predict(X_test)-Y_test)\n",
    "plt.show()"
   ]
  },
  {
   "cell_type": "markdown",
   "metadata": {},
   "source": [
    "We can see from the residual plot above that this does not look like a good model. There is clearly an increasing trend to the residual rather than a random scatter, which is what we hope to see. With this in mind, let's try adding all degree 2 combinations of the variables.  "
   ]
  },
  {
   "cell_type": "code",
   "execution_count": 40,
   "metadata": {},
   "outputs": [],
   "source": [
    "poly = PolynomialFeatures(degree=2)\n",
    "X_new=poly.fit_transform(X)"
   ]
  },
  {
   "cell_type": "code",
   "execution_count": 41,
   "metadata": {},
   "outputs": [
    {
     "data": {
      "text/plain": [
       "(336569, 15)"
      ]
     },
     "execution_count": 41,
     "metadata": {},
     "output_type": "execute_result"
    }
   ],
   "source": [
    "X_new_train,X_new_test,Y_new_train,Y_new_test=train_test_split(X_new,Y,test_size=.2, random_state=7)\n",
    "X_new_train.shape\n"
   ]
  },
  {
   "cell_type": "code",
   "execution_count": 47,
   "metadata": {},
   "outputs": [
    {
     "data": {
      "text/plain": [
       "array([  0.00000000e+00,  -1.87799323e+00,  -1.34386722e+01,\n",
       "         1.04219362e-01,   5.36849625e+00,  -1.87799323e+00,\n",
       "        -5.91313978e-01,   3.89147534e-02,   1.90237175e+00,\n",
       "         1.10028619e+00,   2.29676718e-02,   1.12200473e+00,\n",
       "        -1.24184813e-03,  -1.39356959e-02,  -3.24772239e-01])"
      ]
     },
     "execution_count": 47,
     "metadata": {},
     "output_type": "execute_result"
    }
   ],
   "source": [
    "lm.fit(X_new_train,Y_new_train)\n",
    "lm.coef_\n"
   ]
  },
  {
   "cell_type": "code",
   "execution_count": 48,
   "metadata": {},
   "outputs": [
    {
     "data": {
      "image/png": "[encoded data removed]",
      "text/plain": [
       "<matplotlib.figure.Figure at 0x130c6bcf898>"
      ]
     },
     "metadata": {},
     "output_type": "display_data"
    }
   ],
   "source": [
    "plt.scatter(lm.predict(X_new_test), lm.predict(X_new_test)-Y_new_test)\n",
    "plt.show()"
   ]
  },
  {
   "cell_type": "markdown",
   "metadata": {},
   "source": [
    "We can see here that errors still have the same general (undesirable) shape, so this probably hasn't improved our model. "
   ]
  }
 ],
 "metadata": {
  "celltoolbar": "Raw Cell Format",
  "kernelspec": {
   "display_name": "Python 3",
   "language": "python",
   "name": "python3"
  },
  "language_info": {
   "codemirror_mode": {
    "name": "ipython",
    "version": 3
   },
   "file_extension": ".py",
   "mimetype": "text/x-python",
   "name": "python",
   "nbconvert_exporter": "python",
   "pygments_lexer": "ipython3",
   "version": "3.6.3"
  }
 },
 "nbformat": 4,
 "nbformat_minor": 2
}
